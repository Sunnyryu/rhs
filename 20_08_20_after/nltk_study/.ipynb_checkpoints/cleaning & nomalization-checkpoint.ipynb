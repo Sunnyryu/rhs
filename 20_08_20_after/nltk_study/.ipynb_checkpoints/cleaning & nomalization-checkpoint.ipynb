{
 "cells": [
  {
   "cell_type": "markdown",
   "id": "ce856d55",
   "metadata": {},
   "source": [
    "## 정제 / 정규화\n",
    "\n",
    "코퍼스에서 용도에 맞게 토큰을 분류하는 작업을 토큰화(tokenization)라고 하며, 토큰화 작업 전, 후에는 텍스트 데이터를 용도에 맞게 정제(cleaning) 및 정규화(normalization)하는 일이 항상 함께\n",
    "\n",
    "    정제 : 갖고 있는 코퍼스로부터 노이즈 데이터 제거한다.\n",
    "    정규화(normalization) : 표현 방법이 다른 단어들을 통합시켜서 같은 단어로 만들어준다.\n",
    "    \n",
    "\n",
    "## 규칙에 기반한 표기가 다른 단어들의 통합\n",
    "\n",
    "필요에 따라 직접 코딩을 통해 정의할 수 있는 정규화 규칙의 예로서 같은 의미를 갖고있음에도, 표기가 다른 단어들을 하나의 단어로 정규화하는 방법을 사용\n",
    "(uh-huh와 uhhuh는 형태는 다르지만 여전히 같은 의미를 갖고 있음)\n",
    "\n",
    "## 대 소문자 통합\n",
    "\n",
    "영어권 언어에서 대, 소문자를 통합하는 것은 단어의 개수를 줄일 수 있는 또 다른 정규화 방법입니다. 영어권 언어에서 대문자는 문장의 맨 앞 등과 같은 특정 상황에서만 쓰이고, 대부분의 글은 소문자로 작성되기 때문에 대, 소문자 통합 작업은 대부분 대문자를 소문자로 변환하는 소문자 변환작업으로 이루어지게 됌"
   ]
  }
 ],
 "metadata": {
  "kernelspec": {
   "display_name": "Python 3",
   "language": "python",
   "name": "python3"
  },
  "language_info": {
   "codemirror_mode": {
    "name": "ipython",
    "version": 3
   },
   "file_extension": ".py",
   "mimetype": "text/x-python",
   "name": "python",
   "nbconvert_exporter": "python",
   "pygments_lexer": "ipython3",
   "version": "3.8.5"
  }
 },
 "nbformat": 4,
 "nbformat_minor": 5
}
