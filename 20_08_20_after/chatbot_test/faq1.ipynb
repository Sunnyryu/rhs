{
 "cells": [
  {
   "cell_type": "code",
   "execution_count": 1,
   "id": "f2d9c37b",
   "metadata": {},
   "outputs": [
    {
     "ename": "ModuleNotFoundError",
     "evalue": "No module named 'gensim'",
     "output_type": "error",
     "traceback": [
      "\u001b[0;31m---------------------------------------------------------------------------\u001b[0m",
      "\u001b[0;31mModuleNotFoundError\u001b[0m                       Traceback (most recent call last)",
      "\u001b[0;32m/tmp/ipykernel_193242/484385504.py\u001b[0m in \u001b[0;36m<module>\u001b[0;34m\u001b[0m\n\u001b[1;32m      1\u001b[0m \u001b[0;32mimport\u001b[0m \u001b[0mos\u001b[0m\u001b[0;34m\u001b[0m\u001b[0;34m\u001b[0m\u001b[0m\n\u001b[1;32m      2\u001b[0m \u001b[0;32mimport\u001b[0m \u001b[0mwarnings\u001b[0m\u001b[0;34m\u001b[0m\u001b[0;34m\u001b[0m\u001b[0m\n\u001b[0;32m----> 3\u001b[0;31m \u001b[0;32mfrom\u001b[0m \u001b[0mgensim\u001b[0m\u001b[0;34m.\u001b[0m\u001b[0mmodels\u001b[0m \u001b[0;32mimport\u001b[0m \u001b[0mdoc2vec\u001b[0m\u001b[0;34m\u001b[0m\u001b[0;34m\u001b[0m\u001b[0m\n\u001b[0m\u001b[1;32m      4\u001b[0m \u001b[0;32mfrom\u001b[0m \u001b[0mgensim\u001b[0m\u001b[0;34m.\u001b[0m\u001b[0mmodels\u001b[0m\u001b[0;34m.\u001b[0m\u001b[0mdoc2vec\u001b[0m \u001b[0;32mimport\u001b[0m \u001b[0mTaggedDocument\u001b[0m\u001b[0;34m\u001b[0m\u001b[0;34m\u001b[0m\u001b[0m\n",
      "\u001b[0;31mModuleNotFoundError\u001b[0m: No module named 'gensim'"
     ]
    }
   ],
   "source": [
    "import os\n",
    "import warnings\n",
    "from gensim.models import doc2vec\n",
    "from gensim.models.doc2vec import TaggedDocument"
   ]
  },
  {
   "cell_type": "code",
   "execution_count": 2,
   "id": "72a5ffed",
   "metadata": {},
   "outputs": [
    {
     "name": "stdout",
     "output_type": "stream",
     "text": [
      "Collecting gensim\n",
      "  Using cached gensim-4.0.1-cp38-cp38-manylinux1_x86_64.whl (23.9 MB)\n",
      "Collecting smart-open>=1.8.1\n",
      "  Downloading smart_open-5.2.0-py3-none-any.whl (58 kB)\n",
      "\u001b[K     |████████████████████████████████| 58 kB 1.1 MB/s eta 0:00:01\n",
      "\u001b[?25hCollecting scipy>=0.18.1\n",
      "  Downloading scipy-1.7.1-cp38-cp38-manylinux_2_5_x86_64.manylinux1_x86_64.whl (28.4 MB)\n",
      "\u001b[K     |████████████████████████████████| 28.4 MB 728 kB/s eta 0:00:011\n",
      "\u001b[?25hRequirement already satisfied: numpy>=1.11.3 in ./venv/lib/python3.8/site-packages (from gensim) (1.21.2)\n",
      "Installing collected packages: smart-open, scipy, gensim\n",
      "Successfully installed gensim-4.0.1 scipy-1.7.1 smart-open-5.2.0\n"
     ]
    }
   ],
   "source": [
    "!pip install gensim"
   ]
  },
  {
   "cell_type": "code",
   "execution_count": 3,
   "id": "4c0790a7",
   "metadata": {},
   "outputs": [
    {
     "name": "stderr",
     "output_type": "stream",
     "text": [
      "/home/sunny/sunny_study/chatbot_test/venv/lib/python3.8/site-packages/gensim/similarities/__init__.py:15: UserWarning: The gensim.similarities.levenshtein submodule is disabled, because the optional Levenshtein package <https://pypi.org/project/python-Levenshtein/> is unavailable. Install Levenhstein (e.g. `pip install python-Levenshtein`) to suppress this warning.\n",
      "  warnings.warn(msg)\n"
     ]
    }
   ],
   "source": [
    "import os\n",
    "import warnings\n",
    "from gensim.models import doc2vec\n",
    "from gensim.models.doc2vec import TaggedDocument"
   ]
  },
  {
   "cell_type": "code",
   "execution_count": 4,
   "id": "8236b9e6",
   "metadata": {},
   "outputs": [],
   "source": [
    "\n",
    "faqs = [[\"1\", \"당해년도 납입액은 수정 가능 한가요?\", \"네, 당해년도 납입액은 12464 화면 등록전까지 수정 가능합니다.\"],\n",
    "            [\"2\", \"대리인통보 대상계좌 기준은 어떻게 되나요?\", \"모계좌 기준 가장 최근에 개설된 계좌의 관리점에서 조회 됩니다.  의원폐쇄된 자계좌는 조회대상 계좌에서 제외됩니다. 계좌주 계좌가 사절원 계좌가 아닌 경우만 조회됩니다\"],\n",
    "            [\"3\", \"등록가능 단말기수는 어떻게 되나요?\", \"5대까지 등록 가능입니다.\"],\n",
    "            [\"4\", \"모바일계좌개설 가능한 시간은 어떻게 되나요?\", \"08:00 ~ 20:00(영업일만 가능\"],\n",
    "            [\"5\", \"미국인일때 미국납세자등록번호 작성 방법은 어떻게 되나요?\", \"계좌주가 미국인일 때 계좌주의 미국납세자등록번호(사회보장번호(Social Security Number), 고용주식별번호(Employer Identification Number), 개인납세자번호(Individual Taxpayer Identification Number))를 기재합니다..\"]\n",
    "    ]"
   ]
  },
  {
   "cell_type": "code",
   "execution_count": 5,
   "id": "c492f145",
   "metadata": {},
   "outputs": [
    {
     "data": {
      "text/plain": [
       "[['1', '당해년도 납입액은 수정 가능 한가요?', '네, 당해년도 납입액은 12464 화면 등록전까지 수정 가능합니다.'],\n",
       " ['2',\n",
       "  '대리인통보 대상계좌 기준은 어떻게 되나요?',\n",
       "  '모계좌 기준 가장 최근에 개설된 계좌의 관리점에서 조회 됩니다.  의원폐쇄된 자계좌는 조회대상 계좌에서 제외됩니다. 계좌주 계좌가 사절원 계좌가 아닌 경우만 조회됩니다'],\n",
       " ['3', '등록가능 단말기수는 어떻게 되나요?', '5대까지 등록 가능입니다.'],\n",
       " ['4', '모바일계좌개설 가능한 시간은 어떻게 되나요?', '08:00 ~ 20:00(영업일만 가능'],\n",
       " ['5',\n",
       "  '미국인일때 미국납세자등록번호 작성 방법은 어떻게 되나요?',\n",
       "  '계좌주가 미국인일 때 계좌주의 미국납세자등록번호(사회보장번호(Social Security Number), 고용주식별번호(Employer Identification Number), 개인납세자번호(Individual Taxpayer Identification Number))를 기재합니다..']]"
      ]
     },
     "execution_count": 5,
     "metadata": {},
     "output_type": "execute_result"
    }
   ],
   "source": [
    "faqs"
   ]
  },
  {
   "cell_type": "code",
   "execution_count": 6,
   "id": "9b54b5c6",
   "metadata": {},
   "outputs": [],
   "source": [
    "import jpype\n",
    "from konlpy.tag import Kkma"
   ]
  },
  {
   "cell_type": "code",
   "execution_count": 9,
   "id": "e5d4d01d",
   "metadata": {},
   "outputs": [],
   "source": [
    "kkma = Kkma()\n",
    "\n",
    "def tokenize_kkma(doc):\n",
    "    jpype.attachThreadToJVM()\n",
    "    token_doc = ['/'.join(word) for word in kkma.pos(doc) ]\n",
    "    return token_doc"
   ]
  },
  {
   "cell_type": "code",
   "execution_count": 8,
   "id": "cd4bb450",
   "metadata": {},
   "outputs": [
    {
     "name": "stderr",
     "output_type": "stream",
     "text": [
      "/tmp/ipykernel_193242/1807617477.py:4: DeprecationWarning: jpype._core.attachThreadToJVM is deprecated, use java.lang.Thread.attach instead\n",
      "  jpype.attachThreadToJVM()\n"
     ]
    },
    {
     "data": {
      "text/plain": [
       "['당해/NNG',\n",
       " '년도/NNM',\n",
       " '납입/NNG',\n",
       " '액/XSN',\n",
       " '은/JX',\n",
       " '수정/NNG',\n",
       " '가능/NNG',\n",
       " '한/MDN',\n",
       " '가요/NNG',\n",
       " '?/SF']"
      ]
     },
     "execution_count": 8,
     "metadata": {},
     "output_type": "execute_result"
    }
   ],
   "source": [
    "tokenize_kkma(faqs[0][1])"
   ]
  },
  {
   "cell_type": "code",
   "execution_count": 10,
   "id": "11825b8e",
   "metadata": {},
   "outputs": [],
   "source": [
    "\n",
    "# 리스트에서 각 문장부분 토큰화\n",
    "token_faqs = [(tokenize_kkma(row[1]), row[0]) for row in faqs]\n",
    "\n",
    "# Doc2Vec에서 사용하는 태그문서형으로 변경\n",
    "tagged_faqs = [TaggedDocument(d, [c]) for d, c in token_faqs]"
   ]
  },
  {
   "cell_type": "code",
   "execution_count": 11,
   "id": "c16a261f",
   "metadata": {},
   "outputs": [
    {
     "data": {
      "text/plain": [
       "[TaggedDocument(words=['당해/NNG', '년도/NNM', '납입/NNG', '액/XSN', '은/JX', '수정/NNG', '가능/NNG', '한/MDN', '가요/NNG', '?/SF'], tags=['1']),\n",
       " TaggedDocument(words=['대리인/NNG', '통보/NNG', '대상/NNG', '계좌/NNG', '기준/NNG', '은/JX', '어떻/VA', '게/ECD', '되/VV', '나요/EFQ', '?/SF'], tags=['2']),\n",
       " TaggedDocument(words=['등록/NNG', '가능/NNG', '단말/NNG', '기수/NNG', '는/JX', '어떻/VA', '게/ECD', '되/VV', '나요/EFQ', '?/SF'], tags=['3']),\n",
       " TaggedDocument(words=['모바일/NNG', '계좌/NNG', '개설/NNG', '가능/NNG', '하/XSV', 'ㄴ/ETD', '시간/NNG', '은/JX', '어떻/VA', '게/ECD', '되/VV', '나요/EFQ', '?/SF'], tags=['4']),\n",
       " TaggedDocument(words=['미국인/NNG', '일/NNG', '때/NNG', '미국/NNP', '납세자/NNG', '등록/NNG', '번호/NNG', '작성/NNG', '방법/NNG', '은/JX', '어떻/VA', '게/ECD', '되/VV', '나요/EFQ', '?/SF'], tags=['5'])]"
      ]
     },
     "execution_count": 11,
     "metadata": {},
     "output_type": "execute_result"
    }
   ],
   "source": [
    "tagged_faqs"
   ]
  },
  {
   "cell_type": "code",
   "execution_count": 29,
   "id": "425642a4",
   "metadata": {},
   "outputs": [
    {
     "name": "stdout",
     "output_type": "stream",
     "text": [
      "[ 8.9144632e-03 -1.2380857e-03 -7.7326046e-03  4.1886973e-03\n",
      "  9.1657997e-04  7.8554936e-03 -7.3586390e-03  5.0172093e-04\n",
      " -3.3302857e-03 -2.7857542e-03  2.2979425e-03  2.1421539e-03\n",
      "  3.0059421e-03 -7.1247935e-04 -2.6044173e-03  5.8888076e-03\n",
      " -3.4865898e-03 -7.0900319e-04  4.2798412e-03 -5.0855316e-03\n",
      " -9.9084796e-03 -5.7669622e-03  7.7680661e-03  9.6488632e-03\n",
      " -9.2756273e-03  2.4198056e-03 -6.6461116e-03 -4.1193920e-03\n",
      "  1.2721396e-03  2.6708234e-03 -4.4824653e-03  4.2603421e-03\n",
      "  4.3352844e-05 -9.0530398e-04 -6.7668520e-03 -2.8424023e-04\n",
      " -8.8278875e-03  9.1535570e-03 -9.8010781e-04 -2.1644890e-04\n",
      "  1.0549069e-03 -7.0455801e-03 -1.8412108e-03 -9.5050344e-03\n",
      " -7.7899303e-03 -5.4676151e-03 -2.7949470e-03  9.7417207e-03\n",
      "  9.1816699e-03  4.1070342e-04]\n"
     ]
    }
   ],
   "source": [
    "# make model\n",
    "import multiprocessing\n",
    "cores = multiprocessing.cpu_count()\n",
    "d2v_faqs = doc2vec.Doc2Vec(\n",
    "                                vector_size=50, \n",
    "                                alpha=0.025,\n",
    "                                min_alpha=0.025,\n",
    "                                hs=1,\n",
    "                                negative=0,\n",
    "                                dm=0,\n",
    "                                dbow_words = 1,\n",
    "                                min_count = 1,\n",
    "                                workers = cores,\n",
    "                                seed=0\n",
    "                                )\n",
    "d2v_faqs.build_vocab(tagged_faqs)\n",
    "# train document vectors\n",
    "for epoch in range(10):\n",
    "    d2v_faqs.train(tagged_faqs, total_examples = d2v_faqs.corpus_count, epochs = d2v_faqs.epochs)\n",
    "    d2v_faqs.alpha -= 0.0025 # decrease the learning rate\n",
    "    d2v_faqs.min_alpha = d2v_faqs.alpha # fix the learning rate, no decay\n",
    "\n",
    "print(d2v_faqs.infer_vector([\"당해년도 납입액은 수정 가능 한가요\"]))"
   ]
  },
  {
   "cell_type": "code",
   "execution_count": 30,
   "id": "d678bed1",
   "metadata": {},
   "outputs": [],
   "source": [
    "predict_vector = d2v_faqs.infer_vector([\"당해년도 납입액은 수정 가능 한가요?\"])"
   ]
  },
  {
   "cell_type": "code",
   "execution_count": 31,
   "id": "d37758bb",
   "metadata": {},
   "outputs": [
    {
     "name": "stderr",
     "output_type": "stream",
     "text": [
      "/tmp/ipykernel_193242/22855520.py:1: DeprecationWarning: Call to deprecated `docvecs` (The `docvecs` property has been renamed `dv`.).\n",
      "  d2v_faqs.docvecs.most_similar([predict_vector], topn=2)\n"
     ]
    },
    {
     "data": {
      "text/plain": [
       "[('2', 0.08381495624780655), ('4', 0.07660745084285736)]"
      ]
     },
     "execution_count": 31,
     "metadata": {},
     "output_type": "execute_result"
    }
   ],
   "source": [
    "d2v_faqs.docvecs.most_similar([predict_vector], topn=2)\n"
   ]
  },
  {
   "cell_type": "code",
   "execution_count": 32,
   "id": "2002530b",
   "metadata": {},
   "outputs": [
    {
     "data": {
      "text/plain": [
       "['대리인/NNG',\n",
       " '통보/NNG',\n",
       " '대상/NNG',\n",
       " '계좌/NNG',\n",
       " '기준/NNG',\n",
       " '은/JX',\n",
       " '어떻/VA',\n",
       " '게/ECD',\n",
       " '되/VV',\n",
       " '나요/EFQ',\n",
       " '?/SF']"
      ]
     },
     "execution_count": 32,
     "metadata": {},
     "output_type": "execute_result"
    }
   ],
   "source": [
    "\n",
    "test_string = \"대리인통보 대상계좌 기준은 어떻게 되나요?\"\n",
    "tokened_test_string = tokenize_kkma(test_string)\n",
    "tokened_test_string"
   ]
  },
  {
   "cell_type": "code",
   "execution_count": 33,
   "id": "8ff97562",
   "metadata": {},
   "outputs": [
    {
     "name": "stderr",
     "output_type": "stream",
     "text": [
      "/tmp/ipykernel_193242/3448787366.py:2: DeprecationWarning: Call to deprecated `docvecs` (The `docvecs` property has been renamed `dv`.).\n",
      "  d2v_faqs.docvecs.most_similar([test_vector], topn=2)\n"
     ]
    },
    {
     "data": {
      "text/plain": [
       "[('3', 0.08339903503656387), ('4', 0.04971155524253845)]"
      ]
     },
     "execution_count": 33,
     "metadata": {},
     "output_type": "execute_result"
    }
   ],
   "source": [
    "\n",
    "test_vector = d2v_faqs.infer_vector(tokened_test_string)\n",
    "d2v_faqs.docvecs.most_similar([test_vector], topn=2)"
   ]
  },
  {
   "cell_type": "code",
   "execution_count": null,
   "id": "5ed85577",
   "metadata": {},
   "outputs": [],
   "source": []
  }
 ],
 "metadata": {
  "kernelspec": {
   "display_name": "Python 3 (ipykernel)",
   "language": "python",
   "name": "python3"
  },
  "language_info": {
   "codemirror_mode": {
    "name": "ipython",
    "version": 3
   },
   "file_extension": ".py",
   "mimetype": "text/x-python",
   "name": "python",
   "nbconvert_exporter": "python",
   "pygments_lexer": "ipython3",
   "version": "3.8.10"
  }
 },
 "nbformat": 4,
 "nbformat_minor": 5
}
